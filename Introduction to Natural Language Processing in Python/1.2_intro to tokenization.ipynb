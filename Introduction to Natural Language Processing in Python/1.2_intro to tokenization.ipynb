{
 "cells": [
  {
   "attachments": {},
   "cell_type": "markdown",
   "metadata": {},
   "source": [
    "## What is tokenization?\n",
    "* turning a string or document ***into*** (smaller chunks)\n",
    "* one step in prepraring a text for NLP\n",
    "* many different theories  and rules\n",
    "* you can create your own rules using regular expressions\n",
    "* some examples:\n",
    "    * breaking out words or sentences\n",
    "    * separating punctuation\n",
    "    * separating all hashtags in a tweet"
   ]
  },
  {
   "attachments": {},
   "cell_type": "markdown",
   "metadata": {},
   "source": [
    "### NLTK library\n",
    "* nltk: natural language toolkit"
   ]
  },
  {
   "cell_type": "code",
   "execution_count": 1,
   "metadata": {},
   "outputs": [
    {
     "data": {
      "text/plain": [
       "['Hi', 'there', '!']"
      ]
     },
     "execution_count": 1,
     "metadata": {},
     "output_type": "execute_result"
    }
   ],
   "source": [
    "from nltk.tokenize import word_tokenize\n",
    "word_tokenize(\"Hi there!\")"
   ]
  },
  {
   "attachments": {},
   "cell_type": "markdown",
   "metadata": {},
   "source": [
    "### Why tokenize?\n",
    "* easier to map part of speech\n",
    "* mathcing common words\n",
    "* removing unwanted tokens\n",
    "* \"I don't like Sam's shoes.\"\n",
    "* \"I\", \"do\", \"n't\", \"like\", \"Sam\", \"'s\", \"shoes\", \".\"\n",
    "\n",
    "### Other nltk tokenizers\n",
    "* `sent_tokenize`: tokenize a document into sentences\n",
    "* `regexp_tokenize`: tokenize a string or document based on a regular expression pattern\n",
    "* `TweetTokenizer`: special class just for tweet tokenization, allowing you to separate hashtags, mentions and lots of exclamation points!!!\n",
    "\n",
    "### More regex practice\n",
    "* diffenrence between re.search() and re.match()"
   ]
  },
  {
   "cell_type": "code",
   "execution_count": 3,
   "metadata": {},
   "outputs": [
    {
     "data": {
      "text/plain": [
       "<re.Match object; span=(0, 3), match='abc'>"
      ]
     },
     "execution_count": 3,
     "metadata": {},
     "output_type": "execute_result"
    }
   ],
   "source": [
    "import re\n",
    "re.match('abc', 'abcde')"
   ]
  },
  {
   "cell_type": "code",
   "execution_count": 4,
   "metadata": {},
   "outputs": [
    {
     "data": {
      "text/plain": [
       "<re.Match object; span=(0, 3), match='abc'>"
      ]
     },
     "execution_count": 4,
     "metadata": {},
     "output_type": "execute_result"
    }
   ],
   "source": [
    "re.search('abc','abcde')"
   ]
  },
  {
   "cell_type": "code",
   "execution_count": 5,
   "metadata": {},
   "outputs": [],
   "source": [
    "re.match('cd','abcde') # this tries to find the pattern at the start of the string"
   ]
  },
  {
   "cell_type": "code",
   "execution_count": 6,
   "metadata": {},
   "outputs": [
    {
     "data": {
      "text/plain": [
       "<re.Match object; span=(2, 4), match='cd'>"
      ]
     },
     "execution_count": 6,
     "metadata": {},
     "output_type": "execute_result"
    }
   ],
   "source": [
    "re.search('cd','abcde')"
   ]
  },
  {
   "cell_type": "code",
   "execution_count": 8,
   "metadata": {},
   "outputs": [],
   "source": [
    "scene_one = \"SCENE 1: [wind] [clop clop clop] \\nKING ARTHUR: Whoa there!  [clop clop clop] \\nSOLDIER #1: Halt!  Who goes there?\\nARTHUR: It is I, Arthur, son of Uther Pendragon, from the castle of Camelot.  King of the Britons, defeator of the Saxons, sovereign of all England!\\nSOLDIER #1: Pull the other one!\\nARTHUR: I am, ...  and this is my trusty servant Patsy.  We have ridden the length and breadth of the land in search of knights who will join me in my court at Camelot.  I must speak with your lord and master.\\nSOLDIER #1: What?  Ridden on a horse?\\nARTHUR: Yes!\\nSOLDIER #1: You're using coconuts!\\nARTHUR: What?\\nSOLDIER #1: You've got two empty halves of coconut and you're bangin' 'em together.\\nARTHUR: So?  We have ridden since the snows of winter covered this land, through the kingdom of Mercea, through--\\nSOLDIER #1: Where'd you get the coconuts?\\nARTHUR: We found them.\\nSOLDIER #1: Found them?  In Mercea?  The coconut's tropical!\\nARTHUR: What do you mean?\\nSOLDIER #1: Well, this is a temperate zone.\\nARTHUR: The swallow may fly south with the sun or the house martin or the plover may seek warmer climes in winter, yet these are not strangers to our land?\\nSOLDIER #1: Are you suggesting coconuts migrate?\\nARTHUR: Not at all.  They could be carried.\\nSOLDIER #1: What?  A swallow carrying a coconut?\\nARTHUR: It could grip it by the husk!\\nSOLDIER #1: It's not a question of where he grips it!  It's a simple question of weight ratios!  A five ounce bird could not carry a one pound coconut.\\nARTHUR: Well, it doesn't matter.  Will you go and tell your master that Arthur from the Court of Camelot is here.\\nSOLDIER #1: Listen.  In order to maintain air-speed velocity, a swallow needs to beat its wings forty-three times every second, right?\\nARTHUR: Please!\\nSOLDIER #1: Am I right?\\nARTHUR: I'm not interested!\\nSOLDIER #2: It could be carried by an African swallow!\\nSOLDIER #1: Oh, yeah, an African swallow maybe, but not a European swallow.  That's my point.\\nSOLDIER #2: Oh, yeah, I agree with that.\\nARTHUR: Will you ask your master if he wants to join my court at Camelot?!\\nSOLDIER #1: But then of course a-- African swallows are non-migratory.\\nSOLDIER #2: Oh, yeah...\\nSOLDIER #1: So they couldn't bring a coconut back anyway...  [clop clop clop] \\nSOLDIER #2: Wait a minute!  Supposing two swallows carried it together?\\nSOLDIER #1: No, they'd have to have it on a line.\\nSOLDIER #2: Well, simple!  They'd just use a strand of creeper!\\nSOLDIER #1: What, held under the dorsal guiding feathers?\\nSOLDIER #2: Well, why not?\\n\""
   ]
  },
  {
   "cell_type": "code",
   "execution_count": 9,
   "metadata": {},
   "outputs": [
    {
     "name": "stdout",
     "output_type": "stream",
     "text": [
      "{'I', 'court', 'who', 'with', 'maintain', \"'re\", 'beat', 'halves', 'get', 'or', 'husk', 'these', 'question', 'speak', 'wind', 'son', 'What', 'horse', 'Please', 'other', 'back', 'snows', 'line', 'carrying', \"'d\", 'Wait', 'breadth', 'We', 'Pendragon', 'lord', 'why', 'The', '!', 'Uther', 'be', 'defeator', 'my', 'sovereign', 'to', 'do', 'Am', 'African', 'bangin', 'all', '--', 'second', 'Oh', 'could', 'Camelot', 'under', 'me', 'land', 'wings', 'Found', 'But', 'King', 'seek', 'empty', 'martin', 'bring', 'on', 'Ridden', 'two', ':', 'the', 'interested', 'must', 'bird', 'minute', 'trusty', 'coconut', 'anyway', 'Arthur', 'your', 'house', 'It', '.', 'south', 'fly', 'swallows', 'he', 'since', 'That', 'grips', 'course', 'kingdom', 'In', 'will', 'Supposing', 'Yes', 'right', 'but', '...', 'our', 'times', '2', 'clop', 'knights', 'every', 'and', 'they', 'Where', 'coconuts', 'England', 'Court', 'search', 'found', 'them', 'use', '1', 'Saxons', 'go', \"'m\", 'tell', 'castle', 'matter', 'does', 'wants', 'in', 'maybe', 'am', 'Who', 'ridden', 'covered', 'plover', 'master', 'yeah', 'ratios', 'creeper', 'not', 'that', 'five', 'point', \"'\", 'at', 'KING', ',', 'Mercea', 'You', \"'ve\", 'weight', 'length', \"n't\", 'tropical', 'They', 'warmer', 'mean', ']', 'European', 'an', 'grip', 'simple', 'are', 'from', 'carried', 'through', 'ARTHUR', 'Well', 'Not', 'where', \"'s\", 'A', 'ask', 'may', 'you', 'climes', 'there', 'SOLDIER', 'of', 'a', 'air-speed', 'is', 'servant', 'just', 'sun', 'Halt', 'held', 'join', 'it', 'dorsal', 'Whoa', 'goes', 'Will', 'if', 'Are', 'agree', '[', 'this', 'No', 'one', 'zone', 'Pull', 'Patsy', 'suggesting', 'needs', 'feathers', '#', '?', 'its', 'SCENE', \"'em\", 'winter', 'strangers', 'non-migratory', 'by', 'Britons', 'swallow', 'here', 'together', 'So', 'Listen', 'velocity', 'forty-three', 'pound', 'then', 'have', 'temperate', 'order', 'got', 'strand', 'carry', 'migrate', 'using', 'ounce', 'guiding', 'yet'}\n"
     ]
    }
   ],
   "source": [
    "# Import necessary modules\n",
    "from nltk.tokenize import word_tokenize,sent_tokenize\n",
    "import re\n",
    "\n",
    "# Split scene_one into sentences: sentences\n",
    "sentences = sent_tokenize(scene_one)\n",
    "\n",
    "# Use word_tokenize to tokenize the fourth sentence: tokenized_sent\n",
    "tokenized_sent = word_tokenize(sentences[3])\n",
    "\n",
    "# Make a set of unique tokens in the entire scene: unique_tokens\n",
    "unique_tokens = set(word_tokenize(scene_one))\n",
    "\n",
    "# Print the unique tokens result\n",
    "print(unique_tokens)\n"
   ]
  },
  {
   "cell_type": "code",
   "execution_count": 10,
   "metadata": {},
   "outputs": [
    {
     "name": "stdout",
     "output_type": "stream",
     "text": [
      "580 588\n"
     ]
    }
   ],
   "source": [
    "# Search for the first occurrence of \"coconuts\" in scene_one: match\n",
    "match = re.search(\"coconuts\", scene_one)\n",
    "\n",
    "# Print the start and end indexes of match\n",
    "print(match.start(), match.end())"
   ]
  },
  {
   "cell_type": "code",
   "execution_count": 11,
   "metadata": {},
   "outputs": [
    {
     "name": "stdout",
     "output_type": "stream",
     "text": [
      "<re.Match object; span=(9, 32), match='[wind] [clop clop clop]'>\n"
     ]
    }
   ],
   "source": [
    "# Write a regular expression to search for anything in square brackets: pattern1\n",
    "pattern1 = r\"\\[.*]\"\n",
    "\n",
    "# Use re.search to find the first text in square brackets\n",
    "print(re.search(pattern1, scene_one))"
   ]
  },
  {
   "cell_type": "code",
   "execution_count": 12,
   "metadata": {},
   "outputs": [],
   "source": [
    "sentences = ['SCENE 1: [wind] [clop clop clop] \\nKING ARTHUR: Whoa there!',\n",
    " '[clop clop clop] \\nSOLDIER #1: Halt!',\n",
    " 'Who goes there?',\n",
    " 'ARTHUR: It is I, Arthur, son of Uther Pendragon, from the castle of Camelot.',\n",
    " 'King of the Britons, defeator of the Saxons, sovereign of all England!',\n",
    " 'SOLDIER #1: Pull the other one!',\n",
    " 'ARTHUR: I am, ...  and this is my trusty servant Patsy.',\n",
    " 'We have ridden the length and breadth of the land in search of knights who will join me in my court at Camelot.',\n",
    " 'I must speak with your lord and master.',\n",
    " 'SOLDIER #1: What?',\n",
    " 'Ridden on a horse?',\n",
    " 'ARTHUR: Yes!',\n",
    " \"SOLDIER #1: You're using coconuts!\",\n",
    " 'ARTHUR: What?',\n",
    " \"SOLDIER #1: You've got two empty halves of coconut and you're bangin' 'em together.\",\n",
    " 'ARTHUR: So?',\n",
    " \"We have ridden since the snows of winter covered this land, through the kingdom of Mercea, through--\\nSOLDIER #1: Where'd you get the coconuts?\",\n",
    " 'ARTHUR: We found them.',\n",
    " 'SOLDIER #1: Found them?',\n",
    " 'In Mercea?',\n",
    " \"The coconut's tropical!\",\n",
    " 'ARTHUR: What do you mean?',\n",
    " 'SOLDIER #1: Well, this is a temperate zone.',\n",
    " 'ARTHUR: The swallow may fly south with the sun or the house martin or the plover may seek warmer climes in winter, yet these are not strangers to our land?',\n",
    " 'SOLDIER #1: Are you suggesting coconuts migrate?',\n",
    " 'ARTHUR: Not at all.',\n",
    " 'They could be carried.',\n",
    " 'SOLDIER #1: What?',\n",
    " 'A swallow carrying a coconut?',\n",
    " 'ARTHUR: It could grip it by the husk!',\n",
    " \"SOLDIER #1: It's not a question of where he grips it!\",\n",
    " \"It's a simple question of weight ratios!\",\n",
    " 'A five ounce bird could not carry a one pound coconut.',\n",
    " \"ARTHUR: Well, it doesn't matter.\",\n",
    " 'Will you go and tell your master that Arthur from the Court of Camelot is here.',\n",
    " 'SOLDIER #1: Listen.',\n",
    " 'In order to maintain air-speed velocity, a swallow needs to beat its wings forty-three times every second, right?',\n",
    " 'ARTHUR: Please!',\n",
    " 'SOLDIER #1: Am I right?',\n",
    " \"ARTHUR: I'm not interested!\",\n",
    " 'SOLDIER #2: It could be carried by an African swallow!',\n",
    " 'SOLDIER #1: Oh, yeah, an African swallow maybe, but not a European swallow.',\n",
    " \"That's my point.\",\n",
    " 'SOLDIER #2: Oh, yeah, I agree with that.',\n",
    " 'ARTHUR: Will you ask your master if he wants to join my court at Camelot?!',\n",
    " 'SOLDIER #1: But then of course a-- African swallows are non-migratory.',\n",
    " 'SOLDIER #2: Oh, yeah...',\n",
    " \"SOLDIER #1: So they couldn't bring a coconut back anyway...  [clop clop clop] \\nSOLDIER #2: Wait a minute!\",\n",
    " 'Supposing two swallows carried it together?',\n",
    " \"SOLDIER #1: No, they'd have to have it on a line.\",\n",
    " 'SOLDIER #2: Well, simple!',\n",
    " \"They'd just use a strand of creeper!\",\n",
    " 'SOLDIER #1: What, held under the dorsal guiding feathers?',\n",
    " 'SOLDIER #2: Well, why not?']"
   ]
  },
  {
   "cell_type": "code",
   "execution_count": 13,
   "metadata": {},
   "outputs": [
    {
     "name": "stdout",
     "output_type": "stream",
     "text": [
      "<re.Match object; span=(0, 7), match='ARTHUR:'>\n"
     ]
    }
   ],
   "source": [
    "# Find the script notation at the beginning of the fourth sentence and print it\n",
    "pattern2 = r\"[\\w+]+:\"\n",
    "print(re.match(pattern2, sentences[3]))"
   ]
  },
  {
   "cell_type": "code",
   "execution_count": null,
   "metadata": {},
   "outputs": [],
   "source": []
  }
 ],
 "metadata": {
  "kernelspec": {
   "display_name": "Python 3",
   "language": "python",
   "name": "python3"
  },
  "language_info": {
   "codemirror_mode": {
    "name": "ipython",
    "version": 3
   },
   "file_extension": ".py",
   "mimetype": "text/x-python",
   "name": "python",
   "nbconvert_exporter": "python",
   "pygments_lexer": "ipython3",
   "version": "3.8.5"
  },
  "orig_nbformat": 4
 },
 "nbformat": 4,
 "nbformat_minor": 2
}
