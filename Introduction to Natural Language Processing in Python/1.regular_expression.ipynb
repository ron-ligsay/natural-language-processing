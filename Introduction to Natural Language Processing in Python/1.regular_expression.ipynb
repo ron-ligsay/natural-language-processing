{
 "cells": [
  {
   "attachments": {},
   "cell_type": "markdown",
   "metadata": {},
   "source": [
    "## What exactly are regular expressions?\n",
    "* strings with a special syntax\n",
    "* allows us to match patterns in other strings\n",
    "* applications of regular expressions:"
   ]
  },
  {
   "cell_type": "code",
   "execution_count": 1,
   "metadata": {},
   "outputs": [
    {
     "data": {
      "text/plain": [
       "<re.Match object; span=(0, 3), match='abc'>"
      ]
     },
     "execution_count": 1,
     "metadata": {},
     "output_type": "execute_result"
    }
   ],
   "source": [
    "import re\n",
    "re.match('abc', 'abcdef')"
   ]
  },
  {
   "cell_type": "code",
   "execution_count": 2,
   "metadata": {},
   "outputs": [
    {
     "data": {
      "text/plain": [
       "<re.Match object; span=(0, 2), match='hi'>"
      ]
     },
     "execution_count": 2,
     "metadata": {},
     "output_type": "execute_result"
    }
   ],
   "source": [
    "# special patterns\n",
    "word_regex = '\\w+'\n",
    "re.match(word_regex, 'hi there!')"
   ]
  },
  {
   "attachments": {},
   "cell_type": "markdown",
   "metadata": {},
   "source": [
    "*patterns*    *matches*                 *example*\n",
    "\\w+             word                    'Magic'\n",
    "\\d              digit                   9   \n",
    "\\s              space                   ' '\n",
    ".*              wildcard                'username74'\n",
    "+ or *          greedy match            'aaaaaa'\n",
    "\\S              not  space              'no_spaces'\n",
    "[0-9]           range                   5\n",
    "{1,3}           range of repetitions    'aah' or 'hah'\n",
    "[]              matches chars in brackets\n",
    "[^ ]            matches chars not in brackets"
   ]
  },
  {
   "attachments": {},
   "cell_type": "markdown",
   "metadata": {},
   "source": [
    "## Python's re module\n",
    "* `re` module\n",
    "* `split`: split a string on regex\n",
    "* `findall`: find all patterns in a string\n",
    "* `search`: search for a pattern\n",
    "* `match`: match an entire string or substring based on a pattern\n",
    "* pattern first, and the string second\n",
    "* may return an iterator, string, or match object\n",
    "* `finditer`: find all substrings where the regex pattern is true\n",
    "* `sub`: replace substrings where the regex pattern is true\n"
   ]
  },
  {
   "cell_type": "code",
   "execution_count": 3,
   "metadata": {},
   "outputs": [
    {
     "data": {
      "text/plain": [
       "['Split', 'on', 'spaces.']"
      ]
     },
     "execution_count": 3,
     "metadata": {},
     "output_type": "execute_result"
    }
   ],
   "source": [
    "re.split('\\s+', 'Split on spaces.')"
   ]
  },
  {
   "cell_type": "code",
   "execution_count": null,
   "metadata": {},
   "outputs": [],
   "source": []
  }
 ],
 "metadata": {
  "kernelspec": {
   "display_name": "Python 3",
   "language": "python",
   "name": "python3"
  },
  "language_info": {
   "codemirror_mode": {
    "name": "ipython",
    "version": 3
   },
   "file_extension": ".py",
   "mimetype": "text/x-python",
   "name": "python",
   "nbconvert_exporter": "python",
   "pygments_lexer": "ipython3",
   "version": "3.8.5"
  },
  "orig_nbformat": 4
 },
 "nbformat": 4,
 "nbformat_minor": 2
}
